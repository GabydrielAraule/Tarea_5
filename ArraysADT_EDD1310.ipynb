{
  "nbformat": 4,
  "nbformat_minor": 0,
  "metadata": {
    "colab": {
      "name": "ArraysADT_EDD1310.ipynb",
      "provenance": [],
      "collapsed_sections": [],
      "authorship_tag": "ABX9TyMEha3p2txJaIm+DSTCCfdp",
      "include_colab_link": true
    },
    "kernelspec": {
      "name": "python3",
      "display_name": "Python 3"
    },
    "language_info": {
      "name": "python"
    }
  },
  "cells": [
    {
      "cell_type": "markdown",
      "metadata": {
        "id": "view-in-github",
        "colab_type": "text"
      },
      "source": [
        "<a href=\"https://colab.research.google.com/github/GabydrielAraule/Tarea_5/blob/main/ArraysADT_EDD1310.ipynb\" target=\"_parent\"><img src=\"https://colab.research.google.com/assets/colab-badge.svg\" alt=\"Open In Colab\"/></a>"
      ]
    },
    {
      "cell_type": "code",
      "metadata": {
        "colab": {
          "base_uri": "https://localhost:8080/"
        },
        "id": "8r1TXOkIftVY",
        "outputId": "4cc23fe8-8903-45a4-8761-cd7abb212038"
      },
      "source": [
        "class Array:\n",
        "    def __init__( self , tam):\n",
        "        self.__tamanio=tam\n",
        "        self.__data = [ 0 for x in range( self.__tamanio) ]\n",
        "    def to_string( self):\n",
        "        info = \"\"\n",
        "        for dato in self.__data:\n",
        "            info = info + str(dato) + \"|\"\n",
        "        return info\n",
        "    \n",
        "    def get_item( self , index ):\n",
        "        return self.__data[index]\n",
        "\n",
        "    def get_lenght( self):\n",
        "        return len(self.__data)\n",
        "\n",
        "\n",
        "    def set_item( self , dato , index):\n",
        "        if index >= 0 and index < self.get_lenght():\n",
        "            self.__data[index] = dato\n",
        "        else:\n",
        "            print(\"Fuera del rango\")\n",
        "\n",
        "    #def clear( self , dato):\n",
        "    def clear(self , dato):\n",
        "        self.__data = [ dato for x in range( self.__tamanio) ]\n",
        "\n",
        "\n",
        "\n",
        "ejemplo = Array(20)\n",
        "print(ejemplo.to_string())\n",
        "print( ejemplo.get_item(2))\n",
        "ejemplo.set_item(45 , 2)\n",
        "print(ejemplo.to_string())\n",
        "ejemplo.get_lenght()\n",
        "print(ejemplo.get_lenght())\n",
        "ejemplo.clear( 4 )\n",
        "print( ejemplo.to_string())\n",
        "print(ejemplo.to_string())\n"
      ],
      "execution_count": null,
      "outputs": [
        {
          "output_type": "stream",
          "name": "stdout",
          "text": [
            "0|0|0|0|0|0|0|0|0|0|0|0|0|0|0|0|0|0|0|0|\n",
            "0\n",
            "0|0|45|0|0|0|0|0|0|0|0|0|0|0|0|0|0|0|0|0|\n",
            "20\n",
            "4|4|4|4|4|4|4|4|4|4|4|4|4|4|4|4|4|4|4|4|\n",
            "4|4|4|4|4|4|4|4|4|4|4|4|4|4|4|4|4|4|4|4|\n"
          ]
        }
      ]
    },
    {
      "cell_type": "code",
      "metadata": {
        "id": "FYYpkQ9WzxRs"
      },
      "source": [
        ""
      ],
      "execution_count": null,
      "outputs": []
    },
    {
      "cell_type": "code",
      "metadata": {
        "colab": {
          "base_uri": "https://localhost:8080/"
        },
        "id": "4Rrj_hVtgdmG",
        "outputId": "38e8fff2-f31d-491f-f228-3bd7813aaaad"
      },
      "source": [
        "lista=[3 * x for x in range(10)]\n",
        "print(lista)"
      ],
      "execution_count": null,
      "outputs": [
        {
          "output_type": "stream",
          "name": "stdout",
          "text": [
            "[0, 3, 6, 9, 12, 15, 18, 21, 24, 27]\n"
          ]
        }
      ]
    },
    {
      "cell_type": "markdown",
      "metadata": {
        "id": "cs_rCE3ulTVL"
      },
      "source": [
        "---------------------------------------------------\n",
        "TAREA::\n",
        "La carpeta datos es volatil..\n"
      ]
    },
    {
      "cell_type": "code",
      "metadata": {
        "colab": {
          "base_uri": "https://localhost:8080/"
        },
        "id": "iiDDdtwtlIyx",
        "outputId": "c4a96ce3-11d3-4be4-f9c0-dc470dd24496"
      },
      "source": [
        "##!ls -la\n",
        "!cat junio.dat"
      ],
      "execution_count": null,
      "outputs": [
        {
          "output_type": "stream",
          "name": "stdout",
          "text": [
            "numero de trabajador, nombres, paterno, materno, horas extra, sueldo base, año de ingreso\r\n",
            "2345,CARLOS,PEREZ,CASTILLO,0,9850,2017\r\n",
            "5754,ANGEL,GOMEZ,GARRIDO,1,9850,2020\r\n",
            "5345,JESUS,MARTIN,SANTOS,2,9850,2016\r\n",
            "3267,DAVID,JIMENEZ,LOZANO,2,9850,2017\r\n",
            "8765,PEDRO,RUIZ,GUERRERO,2,9850,2017\r\n",
            "5454,DANIEL,HERNANDEZ,CANO,3,9850,2018\r\n",
            "3456,ALEJANDRO,DIAZ,PRIETO,2,9850,2018\r\n",
            "3445,MARIA,MORENO,MENDEZ,1,9850,2018\r\n",
            "9088,ALBERTO,MU�OZ,CRUZ,1,9850,2017\r\n",
            "8877,RAFAEL,ALVAREZ,FLORES,2,9850,2017\r\n",
            "6767,FERNANDO,ROMERO,HERRERA,4,9850,2019\r\n",
            "5654,PABLO,ALONSO,GALLEGO,1,9850,2019\r\n",
            "4323,JORGE,GUTIERREZ,MARQUEZ,2,9850,2020\r\n",
            "2232,RAMON,NAVARRO,LEON,1,9850,2016"
          ]
        }
      ]
    },
    {
      "cell_type": "code",
      "metadata": {
        "colab": {
          "base_uri": "https://localhost:8080/"
        },
        "id": "feePSEoWnAbk",
        "outputId": "c9092aec-d958-408a-acf7-5799254ae524"
      },
      "source": [
        "archivo = open('junio.dat', 'rt' , encoding='latin-1')\n",
        "print( archivo.read())"
      ],
      "execution_count": null,
      "outputs": [
        {
          "output_type": "stream",
          "name": "stdout",
          "text": [
            "numero de trabajador, nombres, paterno, materno, horas extra, sueldo base, aÃ±o de ingreso\n",
            "2345,CARLOS,PEREZ,CASTILLO,0,9850,2017\n",
            "5754,ANGEL,GOMEZ,GARRIDO,1,9850,2020\n",
            "5345,JESUS,MARTIN,SANTOS,2,9850,2016\n",
            "3267,DAVID,JIMENEZ,LOZANO,2,9850,2017\n",
            "8765,PEDRO,RUIZ,GUERRERO,2,9850,2017\n",
            "5454,DANIEL,HERNANDEZ,CANO,3,9850,2018\n",
            "3456,ALEJANDRO,DIAZ,PRIETO,2,9850,2018\n",
            "3445,MARIA,MORENO,MENDEZ,1,9850,2018\n",
            "9088,ALBERTO,MUOZ,CRUZ,1,9850,2017\n",
            "8877,RAFAEL,ALVAREZ,FLORES,2,9850,2017\n",
            "6767,FERNANDO,ROMERO,HERRERA,4,9850,2019\n",
            "5654,PABLO,ALONSO,GALLEGO,1,9850,2019\n",
            "4323,JORGE,GUTIERREZ,MARQUEZ,2,9850,2020\n",
            "2232,RAMON,NAVARRO,LEON,1,9850,2016\n"
          ]
        }
      ]
    },
    {
      "cell_type": "code",
      "metadata": {
        "id": "hBEsmuzYn5mF"
      },
      "source": [
        "class Trabajador:\n",
        "    def __init_( self, nt , nom , pat , mat , he , sb , ai):\n",
        "        self.__numero_trabajador= nt\n",
        "        self.__nombre_trabajador=nom\n",
        "        self.__apellido_paterno = pat\n",
        "        self.__apellido_materno = mat\n",
        "        self._horas_extra = he\n",
        "        self.__salario_base = sb\n",
        "        self.__anio_ingreso =ai\n",
        "\n",
        "    ##Aqui van todos los metoos de acceso.\n",
        "    def set_numero_trabajador( self, nt):\n",
        "        self.set_numero_trabajador = nt\n",
        "    def set_nombre_trabajador(self , nom):\n",
        "        self.set_nombre_trabajador = nom\n",
        "    def set_apellido_paterno(self , pat):\n",
        "        self.set_apellido_paterno = pat\n",
        "    def set_apellido_materno(self , mat):\n",
        "        self.set_apellido_materno = mat\n",
        "    def set_horas_extra(self , he):\n",
        "        self.set_horas_extra = he\n",
        "    def set_salario_base(self , sb):\n",
        "        self.set_salario_base = sb\n",
        "    def set_anio_ingreso(self , ai):\n",
        "        self.set_anio_ingreso = ai\n",
        "##---------------------------------------------\n",
        "    def get_numero_trabajador( self ):\n",
        "       return self.__numero_trabajador\n",
        "    def get_nombre_trabajador( self ):\n",
        "        return self.__nombre_trabajador\n",
        "    def get_apellido_paterno( self ):\n",
        "        return self.__apellido_paterno\n",
        "    def get_numero_trabajador( self ):\n",
        "        return self.__apellido_paterno\n",
        "    def get_horas_extra( self ):\n",
        "        return self.__horas_extra\n",
        "    def get_salario_base( self ):\n",
        "        return self.__salario_base\n",
        "    def get_anio_ingreso( self ):\n",
        "        return self.__anio_ingreso\n",
        "\n",
        "\n",
        "\n",
        "    ##Metodos que haCEN CALCULOs en la logica del negocios(Clcular oras extra)\n",
        "\n",
        "\n"
      ],
      "execution_count": 2,
      "outputs": []
    },
    {
      "cell_type": "code",
      "metadata": {
        "id": "mQrUBdhWn5e_",
        "colab": {
          "base_uri": "https://localhost:8080/",
          "height": 129
        },
        "outputId": "6f1aef5c-4e46-4b6a-ff18-e481f6b61475"
      },
      "source": [
        "class NominaADT:\n",
        "    def __init__(self , ruta_archivo ):\n",
        "        ##Abrir el carchivo y determinar el numero de empleados ___----> num_empleados\n",
        "        archivo = open('junio.dat','rt' , encoding='latin-1')\n",
        "        print( archivo.read())\n",
        "        dato = archivo.readlines()\n",
        "        dato = dato.strip('\\n').split(',')\n",
        "        self.__data  = Array (num_emp)\n",
        "    \n",
        "    def calcular_seeldos(self):\n",
        "        for x in range \n",
        "        #Iterar sobre erl Array y hacer el calculo de sueldos\n",
        "\n",
        "\n",
        "    def mas_antiguo(self):\n",
        "        #Iterrar y buscara en el array el de mayor antiguedad\n",
        "\n",
        "\n",
        "    def menor_antiguedad(self):\n",
        "        ##Iterar y buscara el arary el de menor antiguedad\n",
        "\n"
      ],
      "execution_count": 6,
      "outputs": [
        {
          "output_type": "error",
          "ename": "IndentationError",
          "evalue": "ignored",
          "traceback": [
            "\u001b[0;36m  File \u001b[0;32m\"<ipython-input-6-9e1a4c734200>\"\u001b[0;36m, line \u001b[0;32m14\u001b[0m\n\u001b[0;31m    def mas_antiguo(self):\u001b[0m\n\u001b[0m      ^\u001b[0m\n\u001b[0;31mIndentationError\u001b[0m\u001b[0;31m:\u001b[0m expected an indented block\n"
          ]
        }
      ]
    },
    {
      "cell_type": "code",
      "metadata": {
        "colab": {
          "base_uri": "https://localhost:8080/"
        },
        "id": "ypG9pTvVr6Ro",
        "outputId": "2baab02e-962d-4495-e96e-519e0d3ee2be"
      },
      "source": [
        "sueldo_base=100\n",
        "anio=2019\n",
        "\n",
        "antiguedad =2\n",
        "prestacion= 100 *(2 * 0.03)\n",
        "print(sueldo_base + prestacion)"
      ],
      "execution_count": null,
      "outputs": [
        {
          "output_type": "stream",
          "name": "stdout",
          "text": [
            "106.0\n"
          ]
        }
      ]
    }
  ]
}