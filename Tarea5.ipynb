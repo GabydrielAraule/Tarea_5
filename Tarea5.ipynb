{
  "nbformat": 4,
  "nbformat_minor": 0,
  "metadata": {
    "colab": {
      "name": "Tarea5.ipynb",
      "provenance": [],
      "collapsed_sections": [],
      "authorship_tag": "ABX9TyNTCGe2Zju9VD9CjFr0U1ZN",
      "include_colab_link": true
    },
    "kernelspec": {
      "name": "python3",
      "display_name": "Python 3"
    },
    "language_info": {
      "name": "python"
    }
  },
  "cells": [
    {
      "cell_type": "markdown",
      "metadata": {
        "id": "view-in-github",
        "colab_type": "text"
      },
      "source": [
        "<a href=\"https://colab.research.google.com/github/GabydrielAraule/Tarea_5/blob/main/Tarea5.ipynb\" target=\"_parent\"><img src=\"https://colab.research.google.com/assets/colab-badge.svg\" alt=\"Open In Colab\"/></a>"
      ]
    },
    {
      "cell_type": "code",
      "metadata": {
        "id": "ipp8aEqQZ6r9"
      },
      "source": [
        "##!ls -la\n",
        "!cat junio.dat"
      ],
      "execution_count": null,
      "outputs": []
    },
    {
      "cell_type": "code",
      "metadata": {
        "id": "DTWGCb1q-zDZ"
      },
      "source": [
        "class Array:\n",
        "    def __init__(self,tam):\n",
        "        self.__info = [0 for x in range(tam) ]\n",
        "\n",
        "    def get_item(self,posicion):\n",
        "        dato = -1\n",
        "        try:\n",
        "            dato = self.__info[posicion]\n",
        "        except Exception as e:\n",
        "            print(\"error de posicion\")\n",
        "            dato = \"error\"\n",
        "        return dato\n",
        "\n",
        "    def set_item(self,indice,posicion):\n",
        "        try:\n",
        "            self.__info[posicion]\n",
        "        except Exception as e:\n",
        "            print(\"error de posicion\")\n",
        "    def get_length(self):\n",
        "        return len(self.__info)\n",
        "\n",
        "    def __iter__(self):\n",
        "        return _IteradorArreglo(self.__info)\n",
        "\n",
        "    def Clear(self,dato):\n",
        "        self.__info=[dato for x in range(len(self.__info))]\n"
      ],
      "execution_count": 29,
      "outputs": []
    },
    {
      "cell_type": "code",
      "metadata": {
        "id": "phenGqDPaBei",
        "colab": {
          "base_uri": "https://localhost:8080/"
        },
        "outputId": "dde679a5-4d37-4800-8d7a-b026e69ba383"
      },
      "source": [
        "archivo = open('junio.dat', 'rt' , encoding='latin-1')\n",
        "print( archivo.read())"
      ],
      "execution_count": null,
      "outputs": [
        {
          "output_type": "stream",
          "name": "stdout",
          "text": [
            "numero de trabajador, nombres, paterno, materno, horas extra, sueldo base, aÃ±o de ingreso\n",
            "2345,CARLOS,PEREZ,CASTILLO,0,9850,2017\n",
            "5754,ANGEL,GOMEZ,GARRIDO,1,9850,2020\n",
            "5345,JESUS,MARTIN,SANTOS,2,9850,2016\n",
            "3267,DAVID,JIMENEZ,LOZANO,2,9850,2017\n",
            "8765,PEDRO,RUIZ,GUERRERO,2,9850,2017\n",
            "5454,DANIEL,HERNANDEZ,CANO,3,9850,2018\n",
            "3456,ALEJANDRO,DIAZ,PRIETO,2,9850,2018\n",
            "3445,MARIA,MORENO,MENDEZ,1,9850,2018\n",
            "9088,ALBERTO,MUOZ,CRUZ,1,9850,2017\n",
            "8877,RAFAEL,ALVAREZ,FLORES,2,9850,2017\n",
            "6767,FERNANDO,ROMERO,HERRERA,4,9850,2019\n",
            "5654,PABLO,ALONSO,GALLEGO,1,9850,2019\n",
            "4323,JORGE,GUTIERREZ,MARQUEZ,2,9850,2020\n",
            "2232,RAMON,NAVARRO,LEON,1,9850,2016\n"
          ]
        }
      ]
    },
    {
      "cell_type": "code",
      "metadata": {
        "id": "NXzXzTBhaFG_"
      },
      "source": [
        "class Trabajadores:\n",
        "    def __init_( self, nt , nom , pat , mat , he , sb , ai):\n",
        "        self.__numero_trabajador= nt\n",
        "        self.__nombre_trabajador=nom\n",
        "        self.__apellido_paterno = pat\n",
        "        self.__apellido_materno = mat\n",
        "        self.__horas_extra = he\n",
        "        self.__salario_base = sb\n",
        "        self.__anio_ingreso =ai\n",
        "        self.__antiguedad = 2021 - int(ai)\n",
        "    def to_string( self ):\n",
        "        return (f\"\"\"\n",
        "        ID -> {self.__numero_trabajador},\n",
        "        Nombre -> {self.__nombre_trabajador},\n",
        "        Apellidos -> {self.__apellido_paterno} {self.__apellido_materno},\n",
        "        Horas Extras -> {self.__horas_extra},\n",
        "        Salario Base -> {self.__salario_base},\n",
        "        Año de contratación -> {self.__anio_ingreso}\n",
        "        \"\"\")\n",
        "    ##Aqui van todos los metoos de acceso.\n",
        "    def set_numero_trabajador( self, nt):\n",
        "        self.set_numero_trabajador = nt\n",
        "    def set_nombre_trabajador(self , nom):\n",
        "        self.set_nombre_trabajador = nom\n",
        "    def set_apellido_paterno(self , pat):\n",
        "        self.set_apellido_paterno = pat\n",
        "    def set_apellido_materno(self , mat):\n",
        "        self.set_apellido_materno = mat\n",
        "    def set_horas_extra(self , he):\n",
        "        self.set_horas_extra = he\n",
        "    def set_salario_base(self , sb):\n",
        "        self.set_salario_base = sb\n",
        "    def set_anio_ingreso(self , ai):\n",
        "        self.set_anio_ingreso = ai\n",
        "##---------------------------------------------\n",
        "    def get_numero_trabajador( self ):\n",
        "       return self.__numero_trabajador\n",
        "    def get_nombre_trabajador( self ):\n",
        "        return self.__nombre_trabajador\n",
        "    def get_apellido_paterno( self ):\n",
        "        return self.__apellido_paterno\n",
        "    def get_numero_trabajador( self ):\n",
        "        return self.__apellido_paterno\n",
        "    def get_horas_extra( self ):\n",
        "        return self.__horas_extra\n",
        "    def get_salario_base( self ):\n",
        "        return self.__salario_base\n",
        "    def get_anio_ingreso( self ):\n",
        "        return self.__anio_ingreso\n",
        "    def to_string( self ):\n",
        "        return f\"No. de trabajador: {self.__numero_trabajador}, Nombre: {self.__nombre_trabajador}, Paterno: {self.__apellido_paterno}, Materno: {self.__apellido_materno}, Horas extra: {self.__horas_extras}, Salario base: {self.__salario_base}, Año de ingreso: {self.__anioo_ingreso}.\"\n",
        "\n",
        "   \n",
        "    ##Metodos que haCEN CALCULOs en la logica del negocios(Clcular oras extra)\n",
        "    def get_antiguedad(self):\n",
        "        return self.__antiguedad\n",
        "\n",
        "    def get_salario_final( self ):\n",
        "        return float(self.__salario_base) + (float (self.__horas_extra) * 276.5  ) + ( float(self.__salario_base) * 0.03 * self.__antiguedad )\n",
        "\n"
      ],
      "execution_count": 63,
      "outputs": []
    },
    {
      "cell_type": "code",
      "metadata": {
        "id": "b5yEUtX9_WUM"
      },
      "source": [
        "from array import *\n",
        "archivo = open('junio.dat','rt' , encoding='latin-1')\n",
        "lista = Array(15)\n",
        "for x in range(0,15,1):\n",
        "    dato = archivo.readline()\n",
        "    dato = dato.strip('\\n').split(',')\n",
        "    lista.set_item(dato,x)\n",
        "trabajador = Array(14)\n",
        "\n",
        "def objeto_trabajador():\n",
        "    for x in range(1,lista.get_length(),1):\n",
        "        lista_2 = Trabajadores(str(lista.get_item(x)[0]), lista.get_item(x)[1], lista.get_item(x)[2], lista.get_item(x)[3], lista.get_item(x)[4], lista.get_item(x)[5], lista.get_item(x)[6])\n",
        "        trabajador.set_item(lista_2,x-1)\n",
        "    return trabajador\n",
        "\n",
        "def salario():\n",
        "    for i in range(0,trabajador.get_length(),1):\n",
        "        antiguedad = int(2020-int(trabajador.get_item(i).get_anio_ingreso()))\n",
        "        print(f\"El trabajador {trabajador.get_item(i).get_nombre()} tiene una antigüedad de {antiguedad} años.\")\n",
        "        sueldo = float(int(trabajador.get_item(i).get_horas_extras())*276.5 + int(trabajador.get_item(i).get_salario_base()))\n",
        "        print(f\"\\nEl trabajador {trabajador.get_item(i).get_nombre()} obtuvo un sueldo de ${sueldo} (entre salario base y extra).\")\n",
        "        prestacion = float(int(trabajador.get_item(i).get_salario_base()))/100*3*antiguedad\n",
        "        print(f\"El trabajador {trabajador.get_item(i).get_nombre()} obtuvo una prestación de ${prestacion}.\")\n",
        "        sueldo_total = float(int(trabajador.get_item(i).get_horas_extras())*276.5 + int(trabajador.get_item(i).get_salario_base())) + prestacion\n",
        "        print(f\"El trabajador {trabajador.get_item(i).get_nombre()} obtuvo un salario total de ${sueldo_total}.\")\n",
        "        print(f\"\\nEl trabajador {trabajador.get_item(i).get_nombre()} tiene los siguientes datos: \")\n",
        "        print(f\"    - Suma del salario base y el salario extra por haber trabajado {trabajador.get_item(i).get_horas_extras()} hora(s) extra : ${sueldo}.\")\n",
        "        print(f\"    - Prestación del 3% por cada año antiguedad ({antiguedad} años): ${prestacion}.\")\n",
        "        print(f\"    - Sueldo total: ${sueldo_total}.\")\n",
        "def antiguedad():\n",
        "    menor = int(trabajador.get_item(0).get_anio_ingreso())\n",
        "    mayor = int(trabajador.get_item(0).get_anio_ingreso())\n",
        "    for i in range(0,trabajador.get_length(),1):\n",
        "        if (menor<int(trabajador.get_item(i).get_anio_ingreso())):\n",
        "            menor = int(trabajador.get_item(i).get_anio_ingreso())\n",
        "            print(f\"El trabajador {trabajador.get_item(i).get_nombre()} ingresó en el año {menor}, tiene menor antigüedad.\")\n",
        "        elif(mayor>int(trabajador.get_item(i).get_anio_ingreso())):\n",
        "            mayor = int(trabajador.get_item(i).get_anio_ingreso())\n",
        "            print(f\"El trabajador {trabajador.get_item(i).get_nombre()} ingresó en el año {mayor}, tiene mayor antigüedad.\")"
      ],
      "execution_count": 107,
      "outputs": []
    },
    {
      "cell_type": "code",
      "metadata": {
        "colab": {
          "base_uri": "https://localhost:8080/",
          "height": 455
        },
        "id": "he86xDg1Arej",
        "outputId": "7102f24b-40bb-496c-bee7-d39d180e4047"
      },
      "source": [
        "\n",
        "print(\"---------------------------------------------------DATOS DE LOS TRABAJADORES-------------------------------------------------------------\\n\")\n",
        "for trabajador in objeto_trabajador():\n",
        "    print(trabajador.to_string())\n",
        "print(\"\\n----------------------------------------------SUELDO Y PRESTACIÓN DE LOS TRABAJADORES-----------------------------------------------------\")\n",
        "salario()\n",
        "\n",
        "print(\"\\n-------------------------------------------------ANTIGÜEDAD DE LOS TRABAJADORES-----------------------------------------------------------\\n\")\n",
        "antiguedad()"
      ],
      "execution_count": 108,
      "outputs": [
        {
          "output_type": "stream",
          "name": "stdout",
          "text": [
            "---------------------------------------------------DATOS DE LOS TRABAJADORES-------------------------------------------------------------\n",
            "\n"
          ]
        },
        {
          "output_type": "error",
          "ename": "TypeError",
          "evalue": "ignored",
          "traceback": [
            "\u001b[0;31m---------------------------------------------------------------------------\u001b[0m",
            "\u001b[0;31mTypeError\u001b[0m                                 Traceback (most recent call last)",
            "\u001b[0;32m<ipython-input-108-5b671cb43aaa>\u001b[0m in \u001b[0;36m<module>\u001b[0;34m()\u001b[0m\n\u001b[1;32m      1\u001b[0m \u001b[0;34m\u001b[0m\u001b[0m\n\u001b[1;32m      2\u001b[0m \u001b[0mprint\u001b[0m\u001b[0;34m(\u001b[0m\u001b[0;34m\"---------------------------------------------------DATOS DE LOS TRABAJADORES-------------------------------------------------------------\\n\"\u001b[0m\u001b[0;34m)\u001b[0m\u001b[0;34m\u001b[0m\u001b[0;34m\u001b[0m\u001b[0m\n\u001b[0;32m----> 3\u001b[0;31m \u001b[0;32mfor\u001b[0m \u001b[0mtrabajador\u001b[0m \u001b[0;32min\u001b[0m \u001b[0mobjeto_trabajador\u001b[0m\u001b[0;34m(\u001b[0m\u001b[0;34m)\u001b[0m\u001b[0;34m:\u001b[0m\u001b[0;34m\u001b[0m\u001b[0;34m\u001b[0m\u001b[0m\n\u001b[0m\u001b[1;32m      4\u001b[0m     \u001b[0mprint\u001b[0m\u001b[0;34m(\u001b[0m\u001b[0mtrabajador\u001b[0m\u001b[0;34m.\u001b[0m\u001b[0mto_string\u001b[0m\u001b[0;34m(\u001b[0m\u001b[0;34m)\u001b[0m\u001b[0;34m)\u001b[0m\u001b[0;34m\u001b[0m\u001b[0;34m\u001b[0m\u001b[0m\n\u001b[1;32m      5\u001b[0m \u001b[0mprint\u001b[0m\u001b[0;34m(\u001b[0m\u001b[0;34m\"\\n----------------------------------------------SUELDO Y PRESTACIÓN DE LOS TRABAJADORES-----------------------------------------------------\"\u001b[0m\u001b[0;34m)\u001b[0m\u001b[0;34m\u001b[0m\u001b[0;34m\u001b[0m\u001b[0m\n",
            "\u001b[0;32m<ipython-input-107-f4ae947e71be>\u001b[0m in \u001b[0;36mobjeto_trabajador\u001b[0;34m()\u001b[0m\n\u001b[1;32m     10\u001b[0m \u001b[0;32mdef\u001b[0m \u001b[0mobjeto_trabajador\u001b[0m\u001b[0;34m(\u001b[0m\u001b[0;34m)\u001b[0m\u001b[0;34m:\u001b[0m\u001b[0;34m\u001b[0m\u001b[0;34m\u001b[0m\u001b[0m\n\u001b[1;32m     11\u001b[0m     \u001b[0;32mfor\u001b[0m \u001b[0mx\u001b[0m \u001b[0;32min\u001b[0m \u001b[0mrange\u001b[0m\u001b[0;34m(\u001b[0m\u001b[0;36m1\u001b[0m\u001b[0;34m,\u001b[0m\u001b[0mlista\u001b[0m\u001b[0;34m.\u001b[0m\u001b[0mget_length\u001b[0m\u001b[0;34m(\u001b[0m\u001b[0;34m)\u001b[0m\u001b[0;34m,\u001b[0m\u001b[0;36m1\u001b[0m\u001b[0;34m)\u001b[0m\u001b[0;34m:\u001b[0m\u001b[0;34m\u001b[0m\u001b[0;34m\u001b[0m\u001b[0m\n\u001b[0;32m---> 12\u001b[0;31m         \u001b[0mlista_2\u001b[0m \u001b[0;34m=\u001b[0m \u001b[0mTrabajadores\u001b[0m\u001b[0;34m(\u001b[0m\u001b[0mstr\u001b[0m\u001b[0;34m(\u001b[0m\u001b[0mlista\u001b[0m\u001b[0;34m.\u001b[0m\u001b[0mget_item\u001b[0m\u001b[0;34m(\u001b[0m\u001b[0mx\u001b[0m\u001b[0;34m)\u001b[0m\u001b[0;34m[\u001b[0m\u001b[0;36m0\u001b[0m\u001b[0;34m]\u001b[0m\u001b[0;34m)\u001b[0m\u001b[0;34m,\u001b[0m \u001b[0mlista\u001b[0m\u001b[0;34m.\u001b[0m\u001b[0mget_item\u001b[0m\u001b[0;34m(\u001b[0m\u001b[0mx\u001b[0m\u001b[0;34m)\u001b[0m\u001b[0;34m[\u001b[0m\u001b[0;36m1\u001b[0m\u001b[0;34m]\u001b[0m\u001b[0;34m,\u001b[0m \u001b[0mlista\u001b[0m\u001b[0;34m.\u001b[0m\u001b[0mget_item\u001b[0m\u001b[0;34m(\u001b[0m\u001b[0mx\u001b[0m\u001b[0;34m)\u001b[0m\u001b[0;34m[\u001b[0m\u001b[0;36m2\u001b[0m\u001b[0;34m]\u001b[0m\u001b[0;34m,\u001b[0m \u001b[0mlista\u001b[0m\u001b[0;34m.\u001b[0m\u001b[0mget_item\u001b[0m\u001b[0;34m(\u001b[0m\u001b[0mx\u001b[0m\u001b[0;34m)\u001b[0m\u001b[0;34m[\u001b[0m\u001b[0;36m3\u001b[0m\u001b[0;34m]\u001b[0m\u001b[0;34m,\u001b[0m \u001b[0mlista\u001b[0m\u001b[0;34m.\u001b[0m\u001b[0mget_item\u001b[0m\u001b[0;34m(\u001b[0m\u001b[0mx\u001b[0m\u001b[0;34m)\u001b[0m\u001b[0;34m[\u001b[0m\u001b[0;36m4\u001b[0m\u001b[0;34m]\u001b[0m\u001b[0;34m,\u001b[0m \u001b[0mlista\u001b[0m\u001b[0;34m.\u001b[0m\u001b[0mget_item\u001b[0m\u001b[0;34m(\u001b[0m\u001b[0mx\u001b[0m\u001b[0;34m)\u001b[0m\u001b[0;34m[\u001b[0m\u001b[0;36m5\u001b[0m\u001b[0;34m]\u001b[0m\u001b[0;34m,\u001b[0m \u001b[0mlista\u001b[0m\u001b[0;34m.\u001b[0m\u001b[0mget_item\u001b[0m\u001b[0;34m(\u001b[0m\u001b[0mx\u001b[0m\u001b[0;34m)\u001b[0m\u001b[0;34m[\u001b[0m\u001b[0;36m6\u001b[0m\u001b[0;34m]\u001b[0m\u001b[0;34m)\u001b[0m\u001b[0;34m\u001b[0m\u001b[0;34m\u001b[0m\u001b[0m\n\u001b[0m\u001b[1;32m     13\u001b[0m         \u001b[0mtrabajador\u001b[0m\u001b[0;34m.\u001b[0m\u001b[0mset_item\u001b[0m\u001b[0;34m(\u001b[0m\u001b[0mlista_2\u001b[0m\u001b[0;34m,\u001b[0m\u001b[0mx\u001b[0m\u001b[0;34m-\u001b[0m\u001b[0;36m1\u001b[0m\u001b[0;34m)\u001b[0m\u001b[0;34m\u001b[0m\u001b[0;34m\u001b[0m\u001b[0m\n\u001b[1;32m     14\u001b[0m     \u001b[0;32mreturn\u001b[0m \u001b[0mtrabajador\u001b[0m\u001b[0;34m\u001b[0m\u001b[0;34m\u001b[0m\u001b[0m\n",
            "\u001b[0;31mTypeError\u001b[0m: 'int' object is not subscriptable"
          ]
        }
      ]
    },
    {
      "cell_type": "code",
      "metadata": {
        "id": "-ZDH08BOaGMk",
        "colab": {
          "base_uri": "https://localhost:8080/"
        },
        "outputId": "f8ad49e9-68d3-4d58-df2c-cdf99176d236"
      },
      "source": [
        "\n",
        "archivo = open(\"junio.dat\",\"rt\" , encoding='latin-1')\n",
        "empleado = arch.readlines()\n",
        "empleado = [e.replace('','').strip().split(',') for e in empleado]\n",
        "lista = len(empleado)\n",
        "empleados = Array(lista)\n",
        "\n",
        "for x in range(1, lista):\n",
        "    empleados.set_item(empleado[x], x)\n",
        "\n",
        "print(\"SUELDOS DE EMPLEADOS\")\n",
        "for x in range(1, lista):\n",
        "    extra = float(276.5)\n",
        "    hora_extra = int(empleados.get_item(x)[4])\n",
        "    año_ingreso = int(empleados.get_item(x)[6])\n",
        "    sueldo = int(empleados.get_item(x)[5])\n",
        "    sueldo_extra = sueldo + (hora_extra * extra)\n",
        "    sueldo_prestacion = (2020 - año_ingreso) * 0.03\n",
        "    sueldo_total = float((sueldo*sueldo_prestacion)+sueldo_extra)\n",
        "    print(f\" N. empleado:{empleado[x][0]} Nombre:{empleado[x][1]} {empleado[x][2]} {empleado[x][3]} sueldo total de ${sueldo_total}\")\n",
        "\n",
        "print(\"\\nEMPLEADOS CON MENOR ANTIGUEDAD\")\n",
        "for x in range(1, lista):\n",
        "    if int(empleados.get_item(x)[6]) == 2021:\n",
        "        print(f\" N. empleado:{empleado[x][0]} Nombre: {empleado[x][1]} {empleado[x][2]} {empleado[x][3]}, Año de ingreso:{empleado[x][6]}\")\n",
        "\n",
        "print(\"\\nEMPLEADOS CON MAYOR ANTIGUEDAD\")\n",
        "for x in range(1, lista):\n",
        "    if int(empleados.get_item(x)[6]) == 2016:\n",
        "        print(f\" N. empleado:{empleado[x][0]} Nombre: {empleado[x][1]} {empleado[x][2]} {empleado[x][3]}, Año de ingreso:{empleado[x][6]}\")"
      ],
      "execution_count": 99,
      "outputs": [
        {
          "output_type": "stream",
          "name": "stdout",
          "text": [
            "SUELDOS DE EMPLEADOS\n",
            "\n",
            "EMPLEADOS CON MENOR ANTIGUEDAD\n",
            "\n",
            "EMPLEADOS CON MAYOR ANTIGUEDAD\n"
          ]
        }
      ]
    },
    {
      "cell_type": "code",
      "metadata": {
        "id": "e4iSyAKGaL5A"
      },
      "source": [
        "from NominaADT import *\n",
        "from Trabajador import *\n",
        "\n",
        "dato = __salario_base(\"Tarea_4\\junio.dat\")\n",
        "print(\"Salarios:\")\n",
        "dato.get_final_salaries()\n",
        "print(\"--------------------------\")\n",
        "print(\"Salario por ID:\")\n",
        "dato.get_salario_final(\"2345\")\n",
        "print(\"--------------------------\")\n",
        "print(dato.get_buscar_mas_antiguo())\n",
        "print(\"--------------------------\")\n",
        "print(dato.get_buscar_menor_antiguedad())\n",
        "\n",
        "\n",
        "sueldo_base=100\n",
        "anio=2019\n",
        "ejemplo = Trabajador\n",
        "antiguedad =2\n",
        "prestacion= 100 *(2 * 0.03)\n",
        "\n",
        "print(sueldo_base + prestacion)\n",
        "print(to_string())"
      ],
      "execution_count": null,
      "outputs": []
    }
  ]
}